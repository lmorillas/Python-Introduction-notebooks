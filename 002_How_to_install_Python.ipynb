{
 "cells": [
  {
   "cell_type": "markdown",
   "metadata": {},
   "source": [
    "<small><small><i>\n",
    "All the IPython Notebooks in **Python Introduction** lecture series by Dr. Milaan Parmar are available @ **[GitHub](https://github.com/milaan9/01_Python_Introduction)**\n",
    "</i></small></small>"
   ]
  },
  {
   "cell_type": "markdown",
   "metadata": {},
   "source": [
    "# How to install Python\n",
    "\n",
    "> These document provide a relatively brief overview of how to install Python in your machine. "
   ]
  },
  {
   "cell_type": "markdown",
   "metadata": {},
   "source": [
    "# Install Python\n",
    "\n",
    "1. Download the latest version of **[Python](https://www.python.org/downloads/)**.\n",
    "Download Windows x86 – 64 executable file only as installer will automatically install 32 or 64 bit of Python according to the system configuration.\n",
    "\n",
    "2. Run the installer file and follow the steps to install Python\n",
    "\n",
    "3. During the install process, check Add Python to environment variables. This will **add Python to environment variables**, and you can run Python from any part of the computer.\n",
    "\n",
    "Also, you can choose the path where Python is installed.\n",
    "\n",
    "<div>\n",
    "<img src=\"img/ps1.png\" width=\"550\"/>\n",
    "</div>\n",
    "\n",
    "4. When the installation progress is completed, you will see the Disable path length limit. Now you must be thinking what is it and whats will happen if I will disable it. The answer is clear, it will remove the limitations on **MAX_PATH** variable. It will allow to use long path names for the Python. We recommend you to not disable this option as it will remove any path related issues while working in Windows. Therefore click on the close button to finish the installation.\n",
    "\n",
    "<div>\n",
    "<img src=\"img/setup2.png\" width=\"550\"/>\n",
    "</div>\n",
    "\n",
    "5. Now, the Python is installed. You can check it either it is properly installed or not. You can do it through Command Prompt. Open the command prompt and type the following command -\" **python -v** \". It will output the version of the Python.\n",
    "\n",
    "6. Congratulation, you have **successfully** installed **Python 3** version. you can read the next tutorial to Python Programming a complete guide for beginners."
   ]
  },
  {
   "cell_type": "markdown",
   "metadata": {},
   "source": [
    "# Run Python\n",
    "\n",
    "## 1. Run Python in Immediate mode\n",
    "\n",
    "Once Python is installed, typing **`python`** in the command line will invoke the interpreter in immediate mode. We can directly type in Python code, and press Enter to get the output.\n",
    "\n",
    "Try typing in **`1 + 1`** and press enter. We get **`2`** as the output. This prompt can be used as a calculator. To exit this mode, type **`quit()`** and press enter.\n",
    "\n",
    "<div>\n",
    "<img src=\"img/ps2.png\" width=\"550\"/>\n",
    "</div>\n",
    "\n",
    "## 2. Run Python in the Integrated Development Environment (IDE)\n",
    "\n",
    "We can use any text editing software to write a Python script file.\n",
    "\n",
    "We just need to save it with the **`.py`** extension. But using an IDE can make our life a lot easier. IDE is a piece of software that provides useful features like code hinting, syntax highlighting and checking, file explorers, etc. to the programmer for application development.\n",
    "\n",
    "By the way, when you install Python, an IDE named IDLE is also installed. You can use it to run Python on your computer. It's a decent IDE for beginners.\n",
    "\n",
    "When you open IDLE, an interactive Python Shell is opened.\n",
    "\n",
    "<div>\n",
    "<img src=\"img/ps3.png\" width=\"550\"/>\n",
    "</div>\n",
    "\n",
    "Now you can create a new file and save it with **.py** extension. For example, **hello.py**\n",
    "\n",
    "Write Python code in the file and save it. To run the file, go to **Run** > **Run Module** or simply click **F5**.\n",
    "\n",
    "<div>\n",
    "<img src=\"img/ps3.png\" width=\"550\"/>\n",
    "</div>"
   ]
  },
  {
   "cell_type": "markdown",
   "metadata": {},
   "source": [
    "#  Python 3 Major Version Installation (Linux)\n",
    "\n",
    "Linux is an open source Operating System. There are many Linux based operating systems. Popular are **Ubuntu, Fedora, Linux Mint, Debian**. In this section you will learn how to do python installation for both Python 3 and Python 2 versions. **Fedora Linux OS** used for Installation of python. Most of the newer Linux based Operating system have **already installed Python**. You will check it is installed or not by the typing the following commands in terminal. \n",
    "\n",
    "* For Python3\n",
    "> **`$ python3 --version`**\n",
    "\n",
    "* For Python2\n",
    "> **`$ python2 --version`**\n",
    "\n",
    "You will see the python versions as output like in the below screenshot. But if you are not seeing then , you have to install Python . Follow the following steps for **successful install**.\n",
    "\n",
    "<div>\n",
    "<img src=\"img/setup3.png\" width=\"700\"/>\n",
    "</div>\n",
    "\n",
    "If you are using Ubuntu 16.0 or newer version, then you can easily install Python 3.6 or Python 2.7 by typing the following commands \n",
    "\n",
    "> **`$ sudo apt-get update`**\n",
    "\n",
    "> **`$ sudo apt-get install python3.7`**"
   ]
  },
  {
   "cell_type": "markdown",
   "metadata": {},
   "source": [
    "# Python 3 Major Version Installation (MacOS)\n",
    "\n",
    "**MacOs** is an operating system developed by the Apple Inc. It is just like Windows Operating System and other operating system. Most of the newer versions of MacOS have **pre-installed python**. You can check python is installed or not by the following commands. \n",
    "\n",
    "python --version\n",
    "\n",
    "Download the Python 3 or 2 new version. At the time of writing this post , **Python 3.7.4 - July 8, 2019** was the newer version. Download the **[Mac OS X 64-bit/32-bit]((https://www.python.org/downloads/mac-osx/))** installer. Run the package and following the installation steps to install the python packages\n",
    "\n",
    "After the **successful installation**, you can check the python version by using the same command.\n",
    "\n",
    "> **`python --version`**"
   ]
  },
  {
   "cell_type": "markdown",
   "metadata": {},
   "source": [
    "# Instalación de pip \n",
    "\n",
    "```shell\n",
    "\n",
    "C:\\> python3 -m ensurepip\n",
    "```\n",
    "\n",
    "En Debian/Ubuntu\n",
    "\n",
    "`$ sudo apt install python3-pip`"
   ]
  },
  {
   "cell_type": "markdown",
   "metadata": {},
   "source": []
  }
 ],
 "metadata": {
  "hide_input": false,
  "kernelspec": {
   "display_name": "Python 3",
   "language": "python",
   "name": "python3"
  },
  "language_info": {
   "codemirror_mode": {
    "name": "ipython",
    "version": 3
   },
   "file_extension": ".py",
   "mimetype": "text/x-python",
   "name": "python",
   "nbconvert_exporter": "python",
   "pygments_lexer": "ipython3",
   "version": "3.8.3"
  },
  "varInspector": {
   "cols": {
    "lenName": 16,
    "lenType": 16,
    "lenVar": 40
   },
   "kernels_config": {
    "python": {
     "delete_cmd_postfix": "",
     "delete_cmd_prefix": "del ",
     "library": "var_list.py",
     "varRefreshCmd": "print(var_dic_list())"
    },
    "r": {
     "delete_cmd_postfix": ") ",
     "delete_cmd_prefix": "rm(",
     "library": "var_list.r",
     "varRefreshCmd": "cat(var_dic_list()) "
    }
   },
   "types_to_exclude": [
    "module",
    "function",
    "builtin_function_or_method",
    "instance",
    "_Feature"
   ],
   "window_display": false
  }
 },
 "nbformat": 4,
 "nbformat_minor": 2
}
